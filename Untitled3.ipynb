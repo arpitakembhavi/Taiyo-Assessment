{
 "cells": [
  {
   "cell_type": "code",
   "execution_count": 1,
   "id": "d71cac63-b3b6-4b47-af4f-4ead06931778",
   "metadata": {},
   "outputs": [],
   "source": [
    "from bs4 import BeautifulSoup\n",
    "import requests\n",
    "\n",
    "def fetch_tunnel_info():\n",
    "    URL = \"https://en.wikipedia.org/wiki/Tom_Lantos_Tunnels\"\n",
    "    response = requests.get(URL)\n",
    "    soup = BeautifulSoup(response.text, 'html.parser')\n",
    "    \n",
    "    # Find the opening date in the infobox\n",
    "    # This assumes the opening date is within the table with class \"infobox\"\n",
    "    table = soup.find('table', {'class': 'infobox'})\n",
    "    for row in table.find_all('tr'):\n",
    "        if 'Opened' in row.text:\n",
    "            return row.text.strip()"
   ]
  },
  {
   "cell_type": "code",
   "execution_count": 2,
   "id": "c72fb856-b595-489c-acff-d710183e2c94",
   "metadata": {},
   "outputs": [],
   "source": [
    "def display_tunnel_info():\n",
    "    info = fetch_tunnel_info()\n",
    "    if info:\n",
    "        print(\"Tunnel Info:\", info)\n",
    "    else:\n",
    "        print(\"Information not found.\")\n"
   ]
  },
  {
   "cell_type": "code",
   "execution_count": null,
   "id": "0c5b42d7-2f3f-45c9-b90b-55d291b0030d",
   "metadata": {},
   "outputs": [
    {
     "name": "stdout",
     "output_type": "stream",
     "text": [
      "Fetching Tom Lantos Tunnels information...\n",
      "Tunnel Info: OpenedMarch 26, 2013\n",
      "Fetching Tom Lantos Tunnels information...\n",
      "Tunnel Info: OpenedMarch 26, 2013\n",
      "Fetching Tom Lantos Tunnels information...\n",
      "Tunnel Info: OpenedMarch 26, 2013\n",
      "Fetching Tom Lantos Tunnels information...\n",
      "Tunnel Info: OpenedMarch 26, 2013\n",
      "Fetching Tom Lantos Tunnels information...\n",
      "Tunnel Info: OpenedMarch 26, 2013\n",
      "Fetching Tom Lantos Tunnels information...\n",
      "Tunnel Info: OpenedMarch 26, 2013\n",
      "Fetching Tom Lantos Tunnels information...\n",
      "Tunnel Info: OpenedMarch 26, 2013\n",
      "Fetching Tom Lantos Tunnels information...\n",
      "Tunnel Info: OpenedMarch 26, 2013\n",
      "Fetching Tom Lantos Tunnels information...\n",
      "Tunnel Info: OpenedMarch 26, 2013\n",
      "Fetching Tom Lantos Tunnels information...\n",
      "Tunnel Info: OpenedMarch 26, 2013\n",
      "Fetching Tom Lantos Tunnels information...\n",
      "Tunnel Info: OpenedMarch 26, 2013\n",
      "Fetching Tom Lantos Tunnels information...\n",
      "Tunnel Info: OpenedMarch 26, 2013\n",
      "Fetching Tom Lantos Tunnels information...\n",
      "Tunnel Info: OpenedMarch 26, 2013\n",
      "Fetching Tom Lantos Tunnels information...\n",
      "Tunnel Info: OpenedMarch 26, 2013\n",
      "Fetching Tom Lantos Tunnels information...\n",
      "Tunnel Info: OpenedMarch 26, 2013\n",
      "Fetching Tom Lantos Tunnels information...\n",
      "Tunnel Info: OpenedMarch 26, 2013\n",
      "Fetching Tom Lantos Tunnels information...\n",
      "Tunnel Info: OpenedMarch 26, 2013\n",
      "Fetching Tom Lantos Tunnels information...\n",
      "Tunnel Info: OpenedMarch 26, 2013\n",
      "Fetching Tom Lantos Tunnels information...\n",
      "Tunnel Info: OpenedMarch 26, 2013\n",
      "Fetching Tom Lantos Tunnels information...\n",
      "Tunnel Info: OpenedMarch 26, 2013\n",
      "Fetching Tom Lantos Tunnels information...\n",
      "Tunnel Info: OpenedMarch 26, 2013\n",
      "Fetching Tom Lantos Tunnels information...\n",
      "Tunnel Info: OpenedMarch 26, 2013\n"
     ]
    }
   ],
   "source": [
    "import schedule\n",
    "import time\n",
    "\n",
    "def job():\n",
    "    print(\"Fetching Tom Lantos Tunnels information...\")\n",
    "    display_tunnel_info()\n",
    "\n",
    "# For demonstration, let's schedule it to run every 10 minutes.\n",
    "# Change to schedule.every().day.at(\"10:00\").do(job) for daily at 10 AM\n",
    "schedule.every(10).minutes.do(job)\n",
    "\n",
    "while True:\n",
    "    schedule.run_pending()\n",
    "    time.sleep(60)  # Check every minute\n"
   ]
  },
  {
   "cell_type": "code",
   "execution_count": null,
   "id": "692893d3-7ab9-4a40-8b8a-6c77567732c0",
   "metadata": {},
   "outputs": [],
   "source": [
    "python tunnel_info_scheduler.py\n"
   ]
  },
  {
   "cell_type": "code",
   "execution_count": null,
   "id": "13e351c7-ffef-4401-92e4-544f12ddb9b1",
   "metadata": {},
   "outputs": [],
   "source": [
    "from bs4 import BeautifulSoup\n",
    "import requests\n",
    "import schedule\n",
    "import time\n",
    "\n",
    "def scrape_tunnel_info():\n",
    "    URL = \"https://en.wikipedia.org/wiki/Tom_Lantos_Tunnels\"\n",
    "    try:\n",
    "        response = requests.get(URL, timeout=10)\n",
    "        response.raise_for_status()  # Raises HTTPError for bad responses\n",
    "        soup = BeautifulSoup(response.text, 'html.parser')\n",
    "\n",
    "        # Attempt to find the opening date in the infobox\n",
    "        table = soup.find('table', {'class': 'infobox'})\n",
    "        for row in table.find_all('tr'):\n",
    "            if 'Opened' in row.text:\n",
    "                return row.text.strip()\n",
    "    except requests.exceptions.RequestException as e:\n",
    "        print(f\"Request error: {e}\")\n",
    "    except Exception as e:\n",
    "        print(f\"An error occurred: {e}\")\n",
    "\n",
    "def display_tunnel_info():\n",
    "    info = scrape_tunnel_info()\n",
    "    if info:\n",
    "        print(f\"Tunnel Info: {info}\")\n",
    "    else:\n",
    "        print(\"Failed to fetch or find the information.\")\n",
    "\n",
    "def job():\n",
    "    print(\"Fetching Tom Lantos Tunnels information...\")\n",
    "    display_tunnel_info()\n",
    "\n",
    "# Example scheduling: every day at 10 AM. Adjust the frequency as needed.\n",
    "schedule.every().day.at(\"10:00\").do(job)\n",
    "\n",
    "if __name__ == \"__main__\":\n",
    "    # Run the job once at startup, then according to the schedule.\n",
    "    job()\n",
    "    try:\n",
    "        while True:\n",
    "            schedule.run_pending()\n",
    "            time.sleep(60)  # Sleep for a minute between checks\n",
    "    except KeyboardInterrupt:\n",
    "        print(\"Stopping the scraper.\")\n"
   ]
  },
  {
   "cell_type": "code",
   "execution_count": null,
   "id": "598dca71-a004-40dc-b10c-9054d7461034",
   "metadata": {},
   "outputs": [],
   "source": []
  }
 ],
 "metadata": {
  "kernelspec": {
   "display_name": "Python 3 (ipykernel)",
   "language": "python",
   "name": "python3"
  },
  "language_info": {
   "codemirror_mode": {
    "name": "ipython",
    "version": 3
   },
   "file_extension": ".py",
   "mimetype": "text/x-python",
   "name": "python",
   "nbconvert_exporter": "python",
   "pygments_lexer": "ipython3",
   "version": "3.8.10"
  }
 },
 "nbformat": 4,
 "nbformat_minor": 5
}
